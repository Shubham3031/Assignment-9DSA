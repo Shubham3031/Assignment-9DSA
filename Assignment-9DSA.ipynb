{
 "cells": [
  {
   "cell_type": "code",
   "execution_count": 4,
   "id": "bafb007f-b064-4ba9-b9be-191147875581",
   "metadata": {},
   "outputs": [
    {
     "name": "stdout",
     "output_type": "stream",
     "text": [
      "[1, 2]\n"
     ]
    }
   ],
   "source": [
    "# 1.Ans.\n",
    "\n",
    "def SumTarget(nums,target):\n",
    "    left ,right = 0,len(nums)-1\n",
    "    while left<right:\n",
    "        curr_sum = nums[left]+nums[right]\n",
    "        \n",
    "        if curr_sum==target:\n",
    "            return[left+1,right+1]\n",
    "        if curr_sum<target:\n",
    "            left+=1\n",
    "        else:\n",
    "            right-=1\n",
    "            \n",
    "    return []\n",
    "nums = [2,7,11,15]\n",
    "target = 9\n",
    "print(SumTarget(nums,target))\n",
    "\n",
    "    \n",
    "    "
   ]
  },
  {
   "cell_type": "code",
   "execution_count": 7,
   "id": "b750fb20-4396-4fd6-9577-8d0002c2970c",
   "metadata": {},
   "outputs": [
    {
     "name": "stdout",
     "output_type": "stream",
     "text": [
      "[3, 4]\n"
     ]
    }
   ],
   "source": [
    "# 2.Ans.\n",
    "\n",
    "def search_nums(nums, target):\n",
    "    def find_leftmost(nums, target):\n",
    "        left, right = 0, len(nums) - 1\n",
    "        while left <= right:\n",
    "            mid = (left + right) // 2\n",
    "            if nums[mid] >= target:\n",
    "                right = mid - 1\n",
    "            else:\n",
    "                left = mid + 1\n",
    "        return left\n",
    "\n",
    "    def find_rightmost(nums, target):\n",
    "        left, right = 0, len(nums) - 1\n",
    "        while left <= right:\n",
    "            mid = (left + right) // 2\n",
    "            if nums[mid] <= target:\n",
    "                left = mid + 1\n",
    "            else:\n",
    "                right = mid - 1\n",
    "        return right\n",
    "\n",
    "    leftmost = find_leftmost(nums, target)\n",
    "    rightmost = find_rightmost(nums, target)\n",
    "\n",
    "    if leftmost <= rightmost:\n",
    "        return [leftmost, rightmost]\n",
    "    else:\n",
    "        return [-1, -1]\n",
    "\n",
    "nums = [5, 7, 7, 8, 8, 10]\n",
    "target = 8\n",
    "result = search_nums(nums, target)\n",
    "print(result)  \n",
    "\n"
   ]
  },
  {
   "cell_type": "code",
   "execution_count": 8,
   "id": "993ce7b7-d2bf-49f0-8f92-ddb30878f794",
   "metadata": {},
   "outputs": [
    {
     "name": "stdout",
     "output_type": "stream",
     "text": [
      "2\n"
     ]
    }
   ],
   "source": [
    "# 3.Ans.\n",
    "\n",
    "def find_peak_element(nums):\n",
    "    left, right = 0, len(nums) - 1\n",
    "\n",
    "    while left < right:\n",
    "        mid = (left + right) // 2\n",
    "\n",
    "        if nums[mid] < nums[mid + 1]:  \n",
    "            left = mid + 1\n",
    "        else:  \n",
    "            right = mid\n",
    "\n",
    "    return left\n",
    "nums = [1,2,3,1]\n",
    "print(find_peak_element(nums))\n",
    "\n",
    "\n"
   ]
  },
  {
   "cell_type": "code",
   "execution_count": 9,
   "id": "ef1c38b6-4178-4dac-ab70-00ce9d4395b1",
   "metadata": {},
   "outputs": [
    {
     "name": "stdout",
     "output_type": "stream",
     "text": [
      "2\n"
     ]
    }
   ],
   "source": [
    "# 4.Ans.\n",
    "\n",
    "def search_insert(nums, target):\n",
    "    left, right = 0, len(nums) - 1\n",
    "\n",
    "    while left <= right:\n",
    "        mid = (left + right) // 2\n",
    "\n",
    "        if nums[mid] == target:\n",
    "            return mid\n",
    "        elif nums[mid] < target:\n",
    "            left = mid + 1\n",
    "        else:\n",
    "            right = mid - 1\n",
    "\n",
    "    return left\n",
    "\n",
    "nums = [1,3,5,6]\n",
    "target = 5\n",
    "\n",
    "print(search_insert(nums,target))\n",
    "\n"
   ]
  },
  {
   "cell_type": "code",
   "execution_count": 10,
   "id": "cdd338f3-863c-4e41-b8ba-24099e62bdb8",
   "metadata": {},
   "outputs": [
    {
     "name": "stdout",
     "output_type": "stream",
     "text": [
      "4\n"
     ]
    }
   ],
   "source": [
    "# 5.Ans.\n",
    "\n",
    "def find_majority_element(nums):\n",
    "    candidate, count = None, 0\n",
    "\n",
    "    for num in nums:\n",
    "        if count == 0:\n",
    "            candidate, count = num, 1\n",
    "        elif num == candidate:\n",
    "            count += 1\n",
    "        else:\n",
    "            count -= 1\n",
    "\n",
    "    return candidate if nums.count(candidate) > len(nums) // 2 else None\n",
    "\n",
    "nums = [3,3,4,2,4,4,2,4,4]\n",
    "majority_element = find_majority_element(nums)\n",
    "print(majority_element) \n"
   ]
  },
  {
   "cell_type": "code",
   "execution_count": 11,
   "id": "bfcced33-6db6-4e06-af02-7e5f91cfc3ca",
   "metadata": {},
   "outputs": [
    {
     "name": "stdout",
     "output_type": "stream",
     "text": [
      "4\n"
     ]
    }
   ],
   "source": [
    "# 6.Ans.\n",
    "\n",
    "def first_bad_version(n):\n",
    "    left, right = 1, n\n",
    "\n",
    "    while left < right:\n",
    "        mid = left + (right - left) // 2\n",
    "\n",
    "        if isBadVersion(mid):\n",
    "            right = mid\n",
    "        else:\n",
    "            left = mid + 1\n",
    "\n",
    "    return left\n",
    "\n",
    "bad_version = 4\n",
    "isBadVersion = lambda version: version >= bad_version\n",
    "\n",
    "n = 5\n",
    "first_bad = first_bad_version(n)\n",
    "print(first_bad)  \n"
   ]
  },
  {
   "cell_type": "code",
   "execution_count": 12,
   "id": "3441da04-803d-48ce-a6e3-94384e1fb310",
   "metadata": {},
   "outputs": [
    {
     "name": "stdout",
     "output_type": "stream",
     "text": [
      "3\n"
     ]
    }
   ],
   "source": [
    "# 7.Ans.\n",
    "\n",
    "def count_inversions(arr):\n",
    "    def merge_sort(arr):\n",
    "        if len(arr) <= 1:\n",
    "            return arr, 0\n",
    "\n",
    "        mid = len(arr) // 2\n",
    "        left, inversions_left = merge_sort(arr[:mid])\n",
    "        right, inversions_right = merge_sort(arr[mid:])\n",
    "\n",
    "        merged, inversions = [], 0\n",
    "        i, j = 0, 0\n",
    "\n",
    "        while i < len(left) and j < len(right):\n",
    "            if left[i] <= right[j]:\n",
    "                merged.append(left[i])\n",
    "                i += 1\n",
    "            else:\n",
    "                merged.append(right[j])\n",
    "                j += 1\n",
    "                inversions += len(left) - i\n",
    "\n",
    "        merged.extend(left[i:])\n",
    "        merged.extend(right[j:])\n",
    "\n",
    "        return merged, inversions + inversions_left + inversions_right\n",
    "\n",
    "    _, inversions = merge_sort(arr)\n",
    "    return inversions\n",
    "\n",
    "\n",
    "arr = [2,4,1,3,5]\n",
    "inversions_count = count_inversions(arr)\n",
    "print(inversions_count)  \n"
   ]
  },
  {
   "cell_type": "code",
   "execution_count": 13,
   "id": "0fa13209-fe18-419a-9870-d8592e983ea4",
   "metadata": {},
   "outputs": [
    {
     "name": "stdout",
     "output_type": "stream",
     "text": [
      "[20, 80]\n"
     ]
    }
   ],
   "source": [
    "# 8.Ans.\n",
    "\n",
    "def find_common_elements(arr1, arr2, arr3):\n",
    "    i, j, k = 0, 0, 0\n",
    "    common_elements = []\n",
    "\n",
    "    while i < len(arr1) and j < len(arr2) and k < len(arr3):\n",
    "        if arr1[i] == arr2[j] == arr3[k]:\n",
    "            common_elements.append(arr1[i])\n",
    "            i += 1\n",
    "            j += 1\n",
    "            k += 1\n",
    "        elif arr1[i] <= arr2[j] and arr1[i] <= arr3[k]:\n",
    "            i += 1\n",
    "        elif arr2[j] <= arr1[i] and arr2[j] <= arr3[k]:\n",
    "            j += 1\n",
    "        else:\n",
    "            k += 1\n",
    "\n",
    "    return common_elements\n",
    "\n",
    "\n",
    "arr1 = [1, 5, 10, 20, 40, 80]\n",
    "arr2 = [6, 7, 20, 80, 100]\n",
    "arr3 = [3, 4, 15, 20, 30, 70, 80, 120]\n",
    "result = find_common_elements(arr1, arr2, arr3)\n",
    "print(result)  \n"
   ]
  },
  {
   "cell_type": "code",
   "execution_count": null,
   "id": "0f3b1137-a900-4652-9728-69faff1aa992",
   "metadata": {},
   "outputs": [],
   "source": []
  }
 ],
 "metadata": {
  "kernelspec": {
   "display_name": "Python 3 (ipykernel)",
   "language": "python",
   "name": "python3"
  },
  "language_info": {
   "codemirror_mode": {
    "name": "ipython",
    "version": 3
   },
   "file_extension": ".py",
   "mimetype": "text/x-python",
   "name": "python",
   "nbconvert_exporter": "python",
   "pygments_lexer": "ipython3",
   "version": "3.10.6"
  }
 },
 "nbformat": 4,
 "nbformat_minor": 5
}
